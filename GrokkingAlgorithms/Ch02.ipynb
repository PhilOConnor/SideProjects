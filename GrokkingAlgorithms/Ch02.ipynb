{
 "cells": [
  {
   "cell_type": "code",
   "execution_count": 27,
   "metadata": {},
   "outputs": [],
   "source": [
    "# Selection Sort\n",
    "\n",
    "\"\"\"\n",
    "This algorithm goes through a list length n and sorts smallest to largest. In each iteration \n",
    "it will take the smallest element, store it and remove it from the\n",
    "list for the next run. It will run this n times.\n",
    "So complexity is O(n^2)\n",
    "\n",
    "- This al\n",
    "\"\"\"\n",
    "\n",
    "def findSmallest(x):\n",
    "    \"\"\"\n",
    "    Find the smallest value in a list/array and return it's index location\n",
    "    \"\"\"\n",
    "    smallest=x[0]\n",
    "    smallest_index=0\n",
    "    for i in range(1,len(x)):\n",
    "        if x[i] < smallest:\n",
    "            smallest=x[i]\n",
    "            smallest_index=i\n",
    "    return smallest_index\n",
    "\n",
    "def selectionSort(x):\n",
    "    \"\"\"\n",
    "    For a given list/array, find the smallest value in the list, add it to a new array and remove it from the original list\n",
    "    \"\"\"\n",
    "    newArr=[]\n",
    "    for i in range(len(x)):\n",
    "        smallest = findSmallest(x)\n",
    "        newArr.append(x.pop(smallest))\n",
    "    return newArr"
   ]
  },
  {
   "cell_type": "code",
   "execution_count": 28,
   "metadata": {},
   "outputs": [
    {
     "name": "stdout",
     "output_type": "stream",
     "text": [
      "[1, 2, 3, 4, 5, 7, 8]\n"
     ]
    }
   ],
   "source": [
    "print(selectionSort(x))"
   ]
  },
  {
   "cell_type": "code",
   "execution_count": 29,
   "metadata": {},
   "outputs": [],
   "source": [
    "x=[3,2,1,5,4,8,7]"
   ]
  },
  {
   "cell_type": "code",
   "execution_count": 30,
   "metadata": {},
   "outputs": [
    {
     "name": "stdout",
     "output_type": "stream",
     "text": [
      "[1, 2, 3, 4, 5, 7, 8]\n"
     ]
    }
   ],
   "source": [
    "print(selectionSort(x))"
   ]
  },
  {
   "cell_type": "code",
   "execution_count": 31,
   "metadata": {},
   "outputs": [
    {
     "data": {
      "text/plain": [
       "[]"
      ]
     },
     "execution_count": 31,
     "metadata": {},
     "output_type": "execute_result"
    }
   ],
   "source": [
    "x"
   ]
  },
  {
   "cell_type": "code",
   "execution_count": null,
   "metadata": {},
   "outputs": [],
   "source": []
  }
 ],
 "metadata": {
  "kernelspec": {
   "display_name": "Python 3",
   "language": "python",
   "name": "python3"
  },
  "language_info": {
   "codemirror_mode": {
    "name": "ipython",
    "version": 3
   },
   "file_extension": ".py",
   "mimetype": "text/x-python",
   "name": "python",
   "nbconvert_exporter": "python",
   "pygments_lexer": "ipython3",
   "version": "3.8.10"
  }
 },
 "nbformat": 4,
 "nbformat_minor": 4
}
