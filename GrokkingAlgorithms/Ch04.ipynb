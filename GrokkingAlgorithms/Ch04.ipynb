{
 "cells": [
  {
   "cell_type": "markdown",
   "metadata": {},
   "source": [
    "# This chapter covers Divide and conquer by looking at the quicksort algorithm"
   ]
  },
  {
   "cell_type": "code",
   "execution_count": null,
   "metadata": {},
   "outputs": [],
   "source": [
    "import numpy as np\n",
    "from ch02 import selectionSort"
   ]
  },
  {
   "cell_type": "code",
   "execution_count": 1,
   "metadata": {},
   "outputs": [],
   "source": [
    "#Exercise 4.1 - create a recursive sum funciton\n",
    "\n",
    "# sum([1,2,3]) -> 1 + sum([2,3]) -> 1 + (2 + sum(3)) -> 6\n",
    "\n",
    "def recursive_sum(arr):\n",
    "    # base case 1 - array is empty, return 0\n",
    "    if len(arr)==0:\n",
    "        return 0\n",
    "    # Else extract the 0th element and pass the remaining elements to the recursive fn.\n",
    "    else:\n",
    "        return arr[0]+recursive_sum(arr[1:])\n",
    "    \n",
    "    \n"
   ]
  },
  {
   "cell_type": "code",
   "execution_count": 2,
   "metadata": {},
   "outputs": [
    {
     "data": {
      "text/plain": [
       "15"
      ]
     },
     "execution_count": 2,
     "metadata": {},
     "output_type": "execute_result"
    }
   ],
   "source": [
    "recursive_sum([1,2,3,4,5])"
   ]
  },
  {
   "cell_type": "code",
   "execution_count": 3,
   "metadata": {},
   "outputs": [
    {
     "name": "stdout",
     "output_type": "stream",
     "text": [
      "871 ns ± 0.461 ns per loop (mean ± std. dev. of 7 runs, 1000000 loops each)\n"
     ]
    }
   ],
   "source": [
    "%timeit recursive_sum([1,2,3,4,5])"
   ]
  },
  {
   "cell_type": "code",
   "execution_count": 5,
   "metadata": {},
   "outputs": [],
   "source": [
    "# Exercise 4.2 - Create a recursive funciton to count number of items in a list\n",
    "def list_counter(l):\n",
    "    if len(l)==0:\n",
    "        return 0\n",
    "    else:\n",
    "        return 1+list_counter(l[1:])"
   ]
  },
  {
   "cell_type": "code",
   "execution_count": 6,
   "metadata": {},
   "outputs": [
    {
     "name": "stdout",
     "output_type": "stream",
     "text": [
      "531 ns ± 0.408 ns per loop (mean ± std. dev. of 7 runs, 1000000 loops each)\n"
     ]
    }
   ],
   "source": [
    "%timeit list_counter(['one', 'two', 'three'])"
   ]
  },
  {
   "cell_type": "code",
   "execution_count": 7,
   "metadata": {},
   "outputs": [
    {
     "name": "stdout",
     "output_type": "stream",
     "text": [
      "67.4 ns ± 0.0308 ns per loop (mean ± std. dev. of 7 runs, 10000000 loops each)\n"
     ]
    }
   ],
   "source": [
    "%timeit len(['one', 'two', 'three'])"
   ]
  },
  {
   "cell_type": "code",
   "execution_count": 8,
   "metadata": {},
   "outputs": [],
   "source": [
    "# Exercise 4.3 - Find max number in a list\n",
    "def max_no(l):\n",
    "    if len(l)==2:\n",
    "        return l[0] if l[0] >l[1] else l[1]\n",
    "    else:\n",
    "        sub_max = max_no()"
   ]
  },
  {
   "cell_type": "code",
   "execution_count": 23,
   "metadata": {},
   "outputs": [],
   "source": [
    "# Quick sort code\n",
    "\n",
    "def quickSort(array):\n",
    "    \"\"\"\n",
    "    Quicksort operates recursively by selecting the 1st element of the array as the 'pivot' and partitioning the dataset as above or below this pivot.\n",
    "    This is applied recursively until the base case (array is empty or has 2 elements) and sorting is achieved.\n",
    "    \"\"\"\n",
    "    if len(array)<2:\n",
    "        return array\n",
    "    else:\n",
    "        pivot=array[0]\n",
    "        below = [i for i in array[1:] if i <= pivot]\n",
    "        above = [i for i in array[1:] if i > pivot]\n",
    "        return quicksort(below) + [pivot] + quicksort(above)"
   ]
  },
  {
   "cell_type": "code",
   "execution_count": 24,
   "metadata": {},
   "outputs": [],
   "source": [
    "# Have to convert to list as numpy array doesnt haev a .pop method\n",
    "rand_array = list(np.random.rand(int(1e5),1))"
   ]
  },
  {
   "cell_type": "code",
   "execution_count": 25,
   "metadata": {},
   "outputs": [
    {
     "name": "stdout",
     "output_type": "stream",
     "text": [
      "2.02 s ± 5.53 ms per loop (mean ± std. dev. of 7 runs, 1 loop each)\n"
     ]
    }
   ],
   "source": [
    "%timeit quickSort(rand_array)"
   ]
  },
  {
   "cell_type": "code",
   "execution_count": null,
   "metadata": {},
   "outputs": [],
   "source": [
    "# Comparing against the selectionSort algorithm in Ch02\n",
    "%timeit selectionSort(rand_array)"
   ]
  },
  {
   "cell_type": "code",
   "execution_count": 19,
   "metadata": {},
   "outputs": [],
   "source": [
    "def mergeSort(array):\n",
    "    \"\"\"\n",
    "    mergeSort operates recursively by selecting the middle element of the array as the 'pivot' and partitioning the dataset as above or below this pivot.\n",
    "    This is applied recursively until the base case (array is empty or has 2 elements) and sorting is achieved.\n",
    "    \"\"\"\n",
    "    if len(array)<2:\n",
    "        return array\n",
    "    else:\n",
    "        pivot=array[len(array)//2]\n",
    "        below = [i for i in array[1:] if i <= pivot]\n",
    "        above = [i for i in array[1:] if i > pivot]\n",
    "        return quicksort(below) + [pivot] + quicksort(above)"
   ]
  },
  {
   "cell_type": "code",
   "execution_count": 20,
   "metadata": {},
   "outputs": [
    {
     "name": "stdout",
     "output_type": "stream",
     "text": [
      "112 ns ± 0.231 ns per loop (mean ± std. dev. of 7 runs, 10000000 loops each)\n"
     ]
    }
   ],
   "source": [
    "%timeit mergeSort(rand_array)"
   ]
  },
  {
   "cell_type": "code",
   "execution_count": null,
   "metadata": {},
   "outputs": [],
   "source": []
  }
 ],
 "metadata": {
  "kernelspec": {
   "display_name": "Python 3",
   "language": "python",
   "name": "python3"
  },
  "language_info": {
   "codemirror_mode": {
    "name": "ipython",
    "version": 3
   },
   "file_extension": ".py",
   "mimetype": "text/x-python",
   "name": "python",
   "nbconvert_exporter": "python",
   "pygments_lexer": "ipython3",
   "version": "3.8.10"
  }
 },
 "nbformat": 4,
 "nbformat_minor": 4
}
