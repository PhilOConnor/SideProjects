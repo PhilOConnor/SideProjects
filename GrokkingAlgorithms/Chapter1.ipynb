{
 "cells": [
  {
   "cell_type": "code",
   "execution_count": 1,
   "metadata": {},
   "outputs": [],
   "source": [
    "import pdb"
   ]
  },
  {
   "cell_type": "code",
   "execution_count": 96,
   "metadata": {},
   "outputs": [],
   "source": [
    "# First algorithm is binary search\n",
    "\"\"\" \n",
    "The algo will take a sorted array and an item, if the item is in the array the funciton will return it's position.\n",
    "At each step, the item will be compared to the middle element of the array, if the item is lower than the middle value, the middle value is updated and it keeps iterating.\n",
    "\"\"\"\n",
    "\n",
    "def binary_search(array, item):\n",
    "    low = 0\n",
    "    high = len(array)-1\n",
    "    i=0\n",
    "    \n",
    "    while low <= high:\n",
    "        # find the middle value of the array\n",
    "        mid = (low + high)//2\n",
    "        guess = array[mid]\n",
    "        print(i, guess)\n",
    "        # if a match, return the guess\n",
    "        if guess == item:\n",
    "            return guess\n",
    "        # if the guess is too high, take the index of mid as the upper value\n",
    "        elif guess > item:\n",
    "            high=mid-1\n",
    "        # If the guess is too low, take the index of the mid value as the lower value\n",
    "        else:\n",
    "            low = mid+1\n",
    "        i+=1\n",
    "    return None"
   ]
  },
  {
   "cell_type": "code",
   "execution_count": 97,
   "metadata": {},
   "outputs": [
    {
     "name": "stdout",
     "output_type": "stream",
     "text": [
      "0 499\n",
      "1 749\n",
      "2 874\n",
      "3 937\n",
      "4 968\n",
      "5 984\n",
      "6 992\n",
      "7 996\n",
      "8 998\n",
      "9 999\n"
     ]
    }
   ],
   "source": [
    "binary_search(range(0,1000), 10001)"
   ]
  },
  {
   "cell_type": "code",
   "execution_count": 98,
   "metadata": {},
   "outputs": [],
   "source": [
    "# An example about big O notation referenced the growth rates of factorial problems - I wanted to check it out myself\n",
    "def factorial(n):\n",
    "    counter=1\n",
    "    for i in range(n):\n",
    "        counter *= (n-i)\n",
    "    return counter"
   ]
  },
  {
   "cell_type": "code",
   "execution_count": 101,
   "metadata": {},
   "outputs": [
    {
     "data": {
      "text/plain": [
       "66345.73150684932"
      ]
     },
     "execution_count": 101,
     "metadata": {},
     "output_type": "execute_result"
    }
   ],
   "source": [
    "(factorial(16)/10)/(365*24*60*60) # how many years to solve a factorial problem with 16 nitial possible values"
   ]
  },
  {
   "cell_type": "code",
   "execution_count": null,
   "metadata": {},
   "outputs": [],
   "source": []
  }
 ],
 "metadata": {
  "kernelspec": {
   "display_name": "Python 3",
   "language": "python",
   "name": "python3"
  },
  "language_info": {
   "codemirror_mode": {
    "name": "ipython",
    "version": 3
   },
   "file_extension": ".py",
   "mimetype": "text/x-python",
   "name": "python",
   "nbconvert_exporter": "python",
   "pygments_lexer": "ipython3",
   "version": "3.6.5"
  }
 },
 "nbformat": 4,
 "nbformat_minor": 2
}
