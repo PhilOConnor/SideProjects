{
 "cells": [
  {
   "cell_type": "code",
   "execution_count": null,
   "metadata": {},
   "outputs": [],
   "source": [
    "from fbchat import Client\n",
    "import fbchat.models \n",
    "import fbchat # type: ignore\n",
    "### see https://github.com/fbchat-dev/fbchat/issues/615#issuecomment-710127001 \n",
    "import re\n",
    "import pandas as pd\n",
    "from random import randint\n",
    "import time\n",
    "details = pd.read_csv(\"login_details.csv\", header=None)\n",
    "fbchat._util.USER_AGENTS    = [\"Mozilla/5.0 (Macintosh; Intel Mac OS X 10_10_2) AppleWebKit/537.36 (KHTML, like Gecko) Chrome/86.0.4240.75 Safari/537.36\"]\n",
    "fbchat._state.FB_DTSG_REGEX = re.compile(r'\"name\":\"fb_dtsg\",\"value\":\"(.*?)\"')\n",
    "###\n",
    "client = Client(details[0][0], details[1][0])\n",
    "\n",
    "\n",
    "\n",
    "def getLyric():\n",
    "    seed = randint(0, len(df)-5)\n",
    "    lyric_list = [x for x in df.iloc[seed:seed+6]['lyric']]\n",
    "    return ' '.join(lyric_list).capitalize()\n",
    "\n",
    "def message(lyric):\n",
    "    client.send(Message(text=f'TayTay Lyric of the Day: {lyric}'), thread_id='100000995802006', thread_type=ThreadType.USER)\n",
    "\n",
    "df = pd.read_csv('taylor_swift_lyrics.csv', engine='python')\n",
    "\n",
    "message(getLyric())\n"
   ]
  },
  {
   "cell_type": "code",
   "execution_count": null,
   "metadata": {},
   "outputs": [],
   "source": [
    "message(getLyric())"
   ]
  },
  {
   "cell_type": "code",
   "execution_count": null,
   "metadata": {},
   "outputs": [],
   "source": []
  }
 ],
 "metadata": {
  "kernelspec": {
   "display_name": "Python 3",
   "language": "python",
   "name": "python3"
  },
  "language_info": {
   "codemirror_mode": {
    "name": "ipython",
    "version": 3
   },
   "file_extension": ".py",
   "mimetype": "text/x-python",
   "name": "python",
   "nbconvert_exporter": "python",
   "pygments_lexer": "ipython3",
   "version": "3.6.5"
  }
 },
 "nbformat": 4,
 "nbformat_minor": 2
}
