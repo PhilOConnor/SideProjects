{
 "cells": [
  {
   "cell_type": "code",
   "execution_count": 5,
   "metadata": {},
   "outputs": [
    {
     "name": "stderr",
     "output_type": "stream",
     "text": [
      "Logging in po-connor@hotmail.com...\n",
      "Attempt #1 failed, retrying\n",
      "Traceback (most recent call last):\n",
      "  File \"C:\\Users\\phil-\\Anaconda3\\lib\\site-packages\\fbchat\\_client.py\", line 209, in login\n",
      "    user_agent=user_agent,\n",
      "  File \"C:\\Users\\phil-\\Anaconda3\\lib\\site-packages\\fbchat\\_state.py\", line 155, in login\n",
      "    \"(Failed on url: {})\".format(r.url)\n",
      "fbchat._exception.FBchatUserError: Login failed. Check email/password. (Failed on url: https://m.facebook.com/login.php?login_attempt=1)\n",
      "Attempt #2 failed, retrying\n",
      "Traceback (most recent call last):\n",
      "  File \"C:\\Users\\phil-\\Anaconda3\\lib\\site-packages\\fbchat\\_client.py\", line 209, in login\n",
      "    user_agent=user_agent,\n",
      "  File \"C:\\Users\\phil-\\Anaconda3\\lib\\site-packages\\fbchat\\_state.py\", line 155, in login\n",
      "    \"(Failed on url: {})\".format(r.url)\n",
      "fbchat._exception.FBchatUserError: Login failed. Check email/password. (Failed on url: https://m.facebook.com/login.php?login_attempt=1)\n",
      "Attempt #3 failed, retrying\n",
      "Traceback (most recent call last):\n",
      "  File \"C:\\Users\\phil-\\Anaconda3\\lib\\site-packages\\fbchat\\_client.py\", line 209, in login\n",
      "    user_agent=user_agent,\n",
      "  File \"C:\\Users\\phil-\\Anaconda3\\lib\\site-packages\\fbchat\\_state.py\", line 155, in login\n",
      "    \"(Failed on url: {})\".format(r.url)\n",
      "fbchat._exception.FBchatUserError: Login failed. Check email/password. (Failed on url: https://m.facebook.com/login.php?login_attempt=1)\n",
      "Attempt #4 failed, retrying\n",
      "Traceback (most recent call last):\n",
      "  File \"C:\\Users\\phil-\\Anaconda3\\lib\\site-packages\\fbchat\\_client.py\", line 209, in login\n",
      "    user_agent=user_agent,\n",
      "  File \"C:\\Users\\phil-\\Anaconda3\\lib\\site-packages\\fbchat\\_state.py\", line 155, in login\n",
      "    \"(Failed on url: {})\".format(r.url)\n",
      "fbchat._exception.FBchatUserError: Login failed. Check email/password. (Failed on url: https://m.facebook.com/login.php?login_attempt=1)\n"
     ]
    },
    {
     "ename": "FBchatUserError",
     "evalue": "Login failed. Check email/password. (Failed on url: https://m.facebook.com/login.php?login_attempt=1)",
     "output_type": "error",
     "traceback": [
      "\u001b[1;31m---------------------------------------------------------------------------\u001b[0m",
      "\u001b[1;31mFBchatUserError\u001b[0m                           Traceback (most recent call last)",
      "\u001b[1;32m<ipython-input-5-62cc6e054574>\u001b[0m in \u001b[0;36m<module>\u001b[1;34m()\u001b[0m\n\u001b[0;32m     11\u001b[0m \u001b[0mfbchat\u001b[0m\u001b[1;33m.\u001b[0m\u001b[0m_state\u001b[0m\u001b[1;33m.\u001b[0m\u001b[0mFB_DTSG_REGEX\u001b[0m \u001b[1;33m=\u001b[0m \u001b[0mre\u001b[0m\u001b[1;33m.\u001b[0m\u001b[0mcompile\u001b[0m\u001b[1;33m(\u001b[0m\u001b[1;34mr'\"name\":\"fb_dtsg\",\"value\":\"(.*?)\"'\u001b[0m\u001b[1;33m)\u001b[0m\u001b[1;33m\u001b[0m\u001b[0m\n\u001b[0;32m     12\u001b[0m \u001b[1;31m###\u001b[0m\u001b[1;33m\u001b[0m\u001b[1;33m\u001b[0m\u001b[0m\n\u001b[1;32m---> 13\u001b[1;33m \u001b[0mclient\u001b[0m \u001b[1;33m=\u001b[0m \u001b[0mClient\u001b[0m\u001b[1;33m(\u001b[0m\u001b[0mdetails\u001b[0m\u001b[1;33m[\u001b[0m\u001b[1;36m0\u001b[0m\u001b[1;33m]\u001b[0m\u001b[1;33m[\u001b[0m\u001b[1;36m0\u001b[0m\u001b[1;33m]\u001b[0m\u001b[1;33m,\u001b[0m \u001b[0mdetails\u001b[0m\u001b[1;33m[\u001b[0m\u001b[1;36m1\u001b[0m\u001b[1;33m]\u001b[0m\u001b[1;33m[\u001b[0m\u001b[1;36m0\u001b[0m\u001b[1;33m]\u001b[0m\u001b[1;33m)\u001b[0m\u001b[1;33m\u001b[0m\u001b[0m\n\u001b[0m\u001b[0;32m     14\u001b[0m \u001b[1;33m\u001b[0m\u001b[0m\n\u001b[0;32m     15\u001b[0m \u001b[1;33m\u001b[0m\u001b[0m\n",
      "\u001b[1;32m~\\Anaconda3\\lib\\site-packages\\fbchat\\_client.py\u001b[0m in \u001b[0;36m__init__\u001b[1;34m(self, email, password, user_agent, max_tries, session_cookies, logging_level)\u001b[0m\n\u001b[0;32m    101\u001b[0m             \u001b[1;32mor\u001b[0m \u001b[1;32mnot\u001b[0m \u001b[0mself\u001b[0m\u001b[1;33m.\u001b[0m\u001b[0misLoggedIn\u001b[0m\u001b[1;33m(\u001b[0m\u001b[1;33m)\u001b[0m\u001b[1;33m\u001b[0m\u001b[0m\n\u001b[0;32m    102\u001b[0m         ):\n\u001b[1;32m--> 103\u001b[1;33m             \u001b[0mself\u001b[0m\u001b[1;33m.\u001b[0m\u001b[0mlogin\u001b[0m\u001b[1;33m(\u001b[0m\u001b[0memail\u001b[0m\u001b[1;33m,\u001b[0m \u001b[0mpassword\u001b[0m\u001b[1;33m,\u001b[0m \u001b[0mmax_tries\u001b[0m\u001b[1;33m,\u001b[0m \u001b[0muser_agent\u001b[0m\u001b[1;33m=\u001b[0m\u001b[0muser_agent\u001b[0m\u001b[1;33m)\u001b[0m\u001b[1;33m\u001b[0m\u001b[0m\n\u001b[0m\u001b[0;32m    104\u001b[0m \u001b[1;33m\u001b[0m\u001b[0m\n\u001b[0;32m    105\u001b[0m     \"\"\"\n",
      "\u001b[1;32m~\\Anaconda3\\lib\\site-packages\\fbchat\\_client.py\u001b[0m in \u001b[0;36mlogin\u001b[1;34m(self, email, password, max_tries, user_agent)\u001b[0m\n\u001b[0;32m    207\u001b[0m                     \u001b[0mpassword\u001b[0m\u001b[1;33m,\u001b[0m\u001b[1;33m\u001b[0m\u001b[0m\n\u001b[0;32m    208\u001b[0m                     \u001b[0mon_2fa_callback\u001b[0m\u001b[1;33m=\u001b[0m\u001b[0mself\u001b[0m\u001b[1;33m.\u001b[0m\u001b[0mon2FACode\u001b[0m\u001b[1;33m,\u001b[0m\u001b[1;33m\u001b[0m\u001b[0m\n\u001b[1;32m--> 209\u001b[1;33m                     \u001b[0muser_agent\u001b[0m\u001b[1;33m=\u001b[0m\u001b[0muser_agent\u001b[0m\u001b[1;33m,\u001b[0m\u001b[1;33m\u001b[0m\u001b[0m\n\u001b[0m\u001b[0;32m    210\u001b[0m                 )\n\u001b[0;32m    211\u001b[0m                 \u001b[0mself\u001b[0m\u001b[1;33m.\u001b[0m\u001b[0m_uid\u001b[0m \u001b[1;33m=\u001b[0m \u001b[0mself\u001b[0m\u001b[1;33m.\u001b[0m\u001b[0m_state\u001b[0m\u001b[1;33m.\u001b[0m\u001b[0muser_id\u001b[0m\u001b[1;33m\u001b[0m\u001b[0m\n",
      "\u001b[1;32m~\\Anaconda3\\lib\\site-packages\\fbchat\\_state.py\u001b[0m in \u001b[0;36mlogin\u001b[1;34m(cls, email, password, on_2fa_callback, user_agent)\u001b[0m\n\u001b[0;32m    153\u001b[0m             raise _exception.FBchatUserError(\n\u001b[0;32m    154\u001b[0m                 \u001b[1;34m\"Login failed. Check email/password. \"\u001b[0m\u001b[1;33m\u001b[0m\u001b[0m\n\u001b[1;32m--> 155\u001b[1;33m                 \u001b[1;34m\"(Failed on url: {})\"\u001b[0m\u001b[1;33m.\u001b[0m\u001b[0mformat\u001b[0m\u001b[1;33m(\u001b[0m\u001b[0mr\u001b[0m\u001b[1;33m.\u001b[0m\u001b[0murl\u001b[0m\u001b[1;33m)\u001b[0m\u001b[1;33m\u001b[0m\u001b[0m\n\u001b[0m\u001b[0;32m    156\u001b[0m             )\n\u001b[0;32m    157\u001b[0m \u001b[1;33m\u001b[0m\u001b[0m\n",
      "\u001b[1;31mFBchatUserError\u001b[0m: Login failed. Check email/password. (Failed on url: https://m.facebook.com/login.php?login_attempt=1)"
     ]
    }
   ],
   "source": [
    "from fbchat import Client\n",
    "import fbchat.models \n",
    "import fbchat # type: ignore\n",
    "### see https://github.com/fbchat-dev/fbchat/issues/615#issuecomment-710127001 \n",
    "import re\n",
    "import pandas as pd\n",
    "from random import randint\n",
    "import time\n",
    "details = pd.read_csv(\"login_details.csv\", header=None)\n",
    "fbchat._util.USER_AGENTS    = [\"Mozilla/5.0 (Macintosh; Intel Mac OS X 10_10_2) AppleWebKit/537.36 (KHTML, like Gecko) Chrome/86.0.4240.75 Safari/537.36\"]\n",
    "fbchat._state.FB_DTSG_REGEX = re.compile(r'\"name\":\"fb_dtsg\",\"value\":\"(.*?)\"')\n",
    "###\n",
    "client = Client(details[0][0], details[1][0])\n",
    "\n",
    "\n",
    "\n",
    "def getLyric():\n",
    "    seed = randint(0, len(df)-5)\n",
    "    lyric_list = [x for x in df.iloc[seed:seed+6]['lyric']]\n",
    "    return ' '.join(lyric_list).capitalize()\n",
    "\n",
    "def message(lyric):\n",
    "    client.send(Message(text=f'TayTay Lyric of the Day: {lyric}'), thread_id='100000995802006', thread_type=ThreadType.USER)\n",
    "\n",
    "df = pd.read_csv('taylor_swift_lyrics.csv', engine='python')\n",
    "\n",
    "message(getLyric())\n"
   ]
  },
  {
   "cell_type": "code",
   "execution_count": null,
   "metadata": {},
   "outputs": [],
   "source": [
    "message(getLyric())"
   ]
  },
  {
   "cell_type": "code",
   "execution_count": null,
   "metadata": {},
   "outputs": [],
   "source": []
  }
 ],
 "metadata": {
  "kernelspec": {
   "display_name": "Python 3",
   "language": "python",
   "name": "python3"
  },
  "language_info": {
   "codemirror_mode": {
    "name": "ipython",
    "version": 3
   },
   "file_extension": ".py",
   "mimetype": "text/x-python",
   "name": "python",
   "nbconvert_exporter": "python",
   "pygments_lexer": "ipython3",
   "version": "3.6.5"
  }
 },
 "nbformat": 4,
 "nbformat_minor": 2
}
